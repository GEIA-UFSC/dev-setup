{
 "cells": [
  {
   "cell_type": "markdown",
   "metadata": {
    "slideshow": {
     "slide_type": "slide"
    }
   },
   "source": [
    "# Getting Ready for Development\n",
    "\n",
    "Bruno M. Pacheco\n",
    "\n",
    "GEIA - Grupo de Estudos em Inteligência Artificial"
   ]
  },
  {
   "cell_type": "markdown",
   "metadata": {
    "slideshow": {
     "slide_type": "subslide"
    }
   },
   "source": [
    "## Content\n",
    "\n",
    "1. Operational System\n",
    "1. Programming Language\n",
    "1. Dependencies Management\n",
    "1. Project Structure\n",
    "1. Development Environment\n",
    "1. Tools/libs"
   ]
  },
  {
   "cell_type": "markdown",
   "metadata": {
    "slideshow": {
     "slide_type": "slide"
    }
   },
   "source": [
    "# Operational System"
   ]
  },
  {
   "cell_type": "markdown",
   "metadata": {
    "slideshow": {
     "slide_type": "fragment"
    }
   },
   "source": [
    "What is the best OS for machine learning development?"
   ]
  },
  {
   "cell_type": "markdown",
   "metadata": {
    "slideshow": {
     "slide_type": "subslide"
    }
   },
   "source": [
    "## Why Linux?"
   ]
  },
  {
   "cell_type": "markdown",
   "metadata": {
    "slideshow": {
     "slide_type": "fragment"
    }
   },
   "source": [
    "### Widely used\n",
    "\n",
    "* Google uses a debian derivative version\n",
    "* Even IBM Watson and Cortana\n",
    "* Top 100 mainframes all use Linux\n",
    "\n",
    "<a href=\"https://www.quora.com/What-linux-distribution-is-best-for-AI-Machine-Learning-Researchers\"><p style=\"text-align:right\">Quora</p></a>"
   ]
  },
  {
   "cell_type": "markdown",
   "metadata": {
    "slideshow": {
     "slide_type": "fragment"
    }
   },
   "source": [
    "### **Dev tools**\n",
    "* They are usually developed in Linux and then ported to Windows\n",
    "* They usually run much smoother and with more predictable results in Linux"
   ]
  },
  {
   "cell_type": "markdown",
   "metadata": {
    "slideshow": {
     "slide_type": "subslide"
    }
   },
   "source": [
    "## Which Linux?"
   ]
  },
  {
   "cell_type": "markdown",
   "metadata": {
    "slideshow": {
     "slide_type": "fragment"
    }
   },
   "source": [
    "You should use the one that makes you more confortable with.\n",
    "\n",
    "<a href=\"https://www.slant.co/topics/9702/~os-for-deep-learning\"><p style=\"text-align:right\">What are the best OS for deep learning</p></a>"
   ]
  },
  {
   "cell_type": "markdown",
   "metadata": {
    "slideshow": {
     "slide_type": "subslide"
    }
   },
   "source": [
    "### Arch Linux\n",
    "\n",
    "- Really raw Linux, which means no bloatware\n",
    "- But also means it does not comes ready out of the box\n",
    "- Meant for experienced Linux users, so gives the user control over everything (no handholding)"
   ]
  },
  {
   "cell_type": "markdown",
   "metadata": {
    "slideshow": {
     "slide_type": "subslide"
    }
   },
   "source": [
    "### Ubuntu\n",
    "\n",
    "- Easy and works out of the box, with already a wide range of software\n",
    "- Less steep learning curve\n",
    "- Better visual"
   ]
  },
  {
   "cell_type": "markdown",
   "metadata": {
    "slideshow": {
     "slide_type": "subslide"
    }
   },
   "source": [
    "### Debian GNU/Linux\n",
    "\n",
    "- One of the oldest distros, which means a very complete community\n",
    "- Limited driver support\n",
    "- Very standard, kind of the starting point for most distros"
   ]
  },
  {
   "cell_type": "markdown",
   "metadata": {
    "slideshow": {
     "slide_type": "subslide"
    }
   },
   "source": [
    "## Ubuntu"
   ]
  },
  {
   "cell_type": "markdown",
   "metadata": {
    "slideshow": {
     "slide_type": "fragment"
    }
   },
   "source": [
    "Because it is pretty out-of-the-box."
   ]
  },
  {
   "cell_type": "markdown",
   "metadata": {
    "slideshow": {
     "slide_type": "subslide"
    }
   },
   "source": [
    "### Installation\n",
    "\n",
    "1. Watch out for LTS versions (LTS = Long Term Support for 5 years instead of 6 months)\n",
    "1. Learn Terminal basics\n",
    "    * cd, ls, rm, mv, mkdir, echo, cat, \">\", sudo, --help, chmod,...\n",
    "1. Learn how to install software through package managers (apt-get or yum)"
   ]
  },
  {
   "cell_type": "markdown",
   "metadata": {
    "slideshow": {
     "slide_type": "slide"
    }
   },
   "source": [
    "# Programming Language"
   ]
  },
  {
   "cell_type": "markdown",
   "metadata": {
    "slideshow": {
     "slide_type": "fragment"
    }
   },
   "source": [
    ">There is no such thing as a ‘best language for machine learning’ and it all depends on what you want to build, where you’re coming from and why you got involved in machine learning\"\n",
    "><p  style=\"font-size:0.8em; text-align:right\">- Developer Economics, <a href=\"http://vmob.me/DE1Q17\"><em>State of the Developer Nation Q1 2017</em></a></p>"
   ]
  },
  {
   "cell_type": "markdown",
   "metadata": {
    "slideshow": {
     "slide_type": "subslide"
    }
   },
   "source": [
    "![Most Used Languages for ML](img/most_used_languages_ml.png)"
   ]
  },
  {
   "cell_type": "markdown",
   "metadata": {
    "slideshow": {
     "slide_type": "subslide"
    }
   },
   "source": [
    "## Python 2 or 3?"
   ]
  },
  {
   "cell_type": "markdown",
   "metadata": {
    "slideshow": {
     "slide_type": "fragment"
    }
   },
   "source": [
    "3, because 2 is **legacy**!"
   ]
  },
  {
   "cell_type": "markdown",
   "metadata": {
    "slideshow": {
     "slide_type": "slide"
    }
   },
   "source": [
    "# Dependencies Management"
   ]
  },
  {
   "cell_type": "markdown",
   "metadata": {
    "slideshow": {
     "slide_type": "subslide"
    }
   },
   "source": [
    "## But why should I care about my dependencies?\n",
    "\n",
    "* Outdated applications/packages\n",
    "* Co-workers sync\n",
    "* Deploy to client"
   ]
  },
  {
   "cell_type": "markdown",
   "metadata": {
    "slideshow": {
     "slide_type": "subslide"
    }
   },
   "source": [
    "## Environments\n",
    "\n",
    "The purpose of virtual environments is to isolate one project from another, each one of them having its own depencies and dependencies versions.\n"
   ]
  },
  {
   "cell_type": "markdown",
   "metadata": {
    "slideshow": {
     "slide_type": "subslide"
    }
   },
   "source": [
    "## Solutions\n",
    "\n",
    "* pip + virtualenv + virtualenvwrapper [1]\n",
    "* **conda** [2]\n",
    "* pipenv [3]\n",
    "* Docker\n",
    "\n",
    "<p style=\"text-align:right\" >[1] <a href=\"https://realpython.com/python-virtual-environments-a-primer/\" >Python Virtual Environments: A Primer</a></p>\n",
    "<p style=\"text-align:right\" >[2] <a href=\"https://medium.freecodecamp.org/why-you-need-python-environments-and-how-to-manage-them-with-conda-85f155f4353c\" >Why you need Python environments and how to manage them with Conda</a></p>\n",
    "<p style=\"text-align:right\" >[3] <a href=\"https://docs.pipenv.org/\" >Python Dev Workflow for Humans</a></p>"
   ]
  },
  {
   "cell_type": "markdown",
   "metadata": {
    "slideshow": {
     "slide_type": "subslide"
    }
   },
   "source": [
    "### Conda\n",
    "\n",
    "Because it is easy and has a lot of packages."
   ]
  },
  {
   "cell_type": "markdown",
   "metadata": {
    "slideshow": {
     "slide_type": "subslide"
    }
   },
   "source": [
    "![Conda Draw](img/conda-draw.jpeg)"
   ]
  },
  {
   "cell_type": "markdown",
   "metadata": {
    "slideshow": {
     "slide_type": "subslide"
    }
   },
   "source": [
    "#### Conda Installation\n",
    "\n",
    "* **Anaconda** vs\n",
    "* Miniconda\n",
    "\n",
    "Also 32- vs 64-bit and Python 2.7 vs 3.x versions.\n",
    "\n",
    "<a href=\"https://conda.io/docs/user-guide/install/index.html\"><p style=\"text-align:right\">Installation</p></a>"
   ]
  },
  {
   "cell_type": "markdown",
   "metadata": {
    "slideshow": {
     "slide_type": "subslide"
    }
   },
   "source": [
    "#### Getting started\n",
    "\n",
    "Learn how to:\n",
    "* Create environments\n",
    "* Activate environments\n",
    "* Manage packages (install, update, specify versions, search, remove, etc.)\n",
    "\n",
    "<a href=\"https://conda.io/docs/_downloads/conda-cheatsheet.pdf\"><p style=\"text-align:right\">Conda Cheatsheet</p></a>\n",
    "<a href=\"https://conda.io/docs/user-guide/getting-started.html\"><p style=\"text-align:right\">Getting started with conda</p></a>"
   ]
  },
  {
   "cell_type": "markdown",
   "metadata": {
    "slideshow": {
     "slide_type": "subslide"
    }
   },
   "source": [
    "![Conda Channels](img/conda-channels.jpeg)"
   ]
  },
  {
   "cell_type": "markdown",
   "metadata": {
    "slideshow": {
     "slide_type": "slide"
    }
   },
   "source": [
    "# Project Structure"
   ]
  },
  {
   "cell_type": "markdown",
   "metadata": {
    "slideshow": {
     "slide_type": "fragment"
    }
   },
   "source": [
    "> Do machine learning like the great engineer you are, not like the great machine learning expert you aren’t\n",
    "> <p style=\"text-align:right\" >Martin Zinkevich, <a href=http://martin.zinkevich.org/rules_of_ml/rules_of_ml.pdf><em>Rules of Machine Learning: Best Practices for ML Engineering</a></em></p>"
   ]
  },
  {
   "cell_type": "markdown",
   "metadata": {
    "slideshow": {
     "slide_type": "subslide"
    }
   },
   "source": [
    "## Why?\n",
    "\n",
    "* Readability\n",
    "* Reproducibility\n",
    "\n",
    "<p style=\"text-align:right\" ><a href=http://drivendata.github.io/cookiecutter-data-science/#why-use-this-project-structure >Cookiecutter Data Science: Why use this project structure?</a></p>\n",
    "<p style=\"text-align:right\" >Whitenack, D., <a href=https://www.oreilly.com/ideas/putting-the-science-back-in-data-science ><em>Putting the science back in data science</em></a></p>\n",
    "<p style=\"text-align:right\" >Towards Machine Learning, <a href=https://towardsml.com/2018/08/06/how-great-products-are-made-rules-of-machine-learning-by-google-a-summary/ ><em>How great products are made: Rules of Machine Learning by Google, a Summary</em></a></p>"
   ]
  },
  {
   "cell_type": "markdown",
   "metadata": {
    "slideshow": {
     "slide_type": "subslide"
    }
   },
   "source": [
    "> Ever tried to reproduce an analysis that you did a few months ago or even a few years ago? You may have written the code, but it's now impossible to decipher whether you should use make_figures.py.old, make_figures_working.py or new_make_figures01.py to get things done\n",
    "> <p style=\"text-align:right\" ><a href=http://drivendata.github.io/cookiecutter-data-science/#why-use-this-project-structure >Cookiecutter Data Science: Why use this project structure?</a></p>"
   ]
  },
  {
   "cell_type": "markdown",
   "metadata": {
    "slideshow": {
     "slide_type": "subslide"
    }
   },
   "source": [
    "## Cookiecutter Data Science"
   ]
  },
  {
   "cell_type": "markdown",
   "metadata": {
    "slideshow": {
     "slide_type": "fragment"
    }
   },
   "source": [
    "![Cookiecutter DS Initialization](img/cookiecutter-ds-intialization.png)"
   ]
  },
  {
   "cell_type": "markdown",
   "metadata": {
    "slideshow": {
     "slide_type": "subslide"
    }
   },
   "source": [
    "```\n",
    "├── LICENSE\n",
    "├── Makefile           <- Makefile with commands like `make data` or `make train`\n",
    "├── README.md          <- The top-level README for developers using this project.\n",
    "├── data\n",
    "│   ├── external       <- Data from third party sources.\n",
    "│   ├── interim        <- Intermediate data that has been transformed.\n",
    "│   ├── processed      <- The final, canonical data sets for modeling.\n",
    "│   └── raw            <- The original, immutable data dump.\n",
    "│\n",
    "├── docs               <- A default Sphinx project; see sphinx-doc.org for details\n",
    "│\n",
    "├── models             <- Trained and serialized models, model predictions, or model summaries\n",
    "│\n",
    "├── notebooks          <- Jupyter notebooks. Naming convention is a number (for ordering),\n",
    "│                         the creator's initials, and a short `-` delimited description, e.g.\n",
    "│                         `1.0-jqp-initial-data-exploration`.\n",
    "│\n",
    "├── references         <- Data dictionaries, manuals, and all other explanatory materials.\n",
    "│\n",
    "├── reports            <- Generated analysis as HTML, PDF, LaTeX, etc.\n",
    "│   └── figures        <- Generated graphics and figures to be used in reporting\n",
    "│\n",
    "├── requirements.txt   <- The requirements file for reproducing the analysis environment, e.g.\n",
    "│                         generated with `pip freeze > requirements.txt`\n",
    "│\n",
    "├── src                <- Source code for use in this project.\n",
    "│   ├── __init__.py    <- Makes src a Python module\n",
    "│   │\n",
    "│   ├── data           <- Scripts to download or generate data\n",
    "│   │   └── make_dataset.py\n",
    "│   │\n",
    "│   ├── features       <- Scripts to turn raw data into features for modeling\n",
    "│   │   └── build_features.py\n",
    "│   │\n",
    "│   ├── models         <- Scripts to train models and then use trained models to make\n",
    "│   │   │                 predictions\n",
    "│   │   ├── predict_model.py\n",
    "│   │   └── train_model.py\n",
    "│   │\n",
    "│   └── visualization  <- Scripts to create exploratory and results oriented visualizations\n",
    "│       └── visualize.py\n",
    "│\n",
    "└── tox.ini            <- tox file with settings for running tox; see tox.testrun.org\n",
    "```"
   ]
  },
  {
   "cell_type": "markdown",
   "metadata": {
    "slideshow": {
     "slide_type": "subslide"
    }
   },
   "source": [
    "### Workflow\n",
    "\n",
    "But now, what should I do with all these files and folders?"
   ]
  },
  {
   "cell_type": "markdown",
   "metadata": {
    "slideshow": {
     "slide_type": "subslide"
    }
   },
   "source": [
    "#### Some tips\n",
    "\n",
    "> * Determine your goals — what error metric to use, and your target value for this error metric. These goals and error metrics should be driven by the problem that the application is intended to solve.\n",
    "> * Establish a working end-to-end pipeline as soon as possible, including the estimation of the appropriate performance metrics.\n",
    "> * Instrument the system well to determine bottlenecks in performance. Diagnose which components are performing worse than expected and whether poor performance is due to overﬁtting, underﬁtting, or a defect in the data or software.\n",
    "> * Repeatedly make incremental changes such as gathering new data, adjusting hyperparameters, or changing algorithms, based on speciﬁc ﬁndings from your instrumentation.\n",
    "<p style=\"text-align:right\">Goodfellow, I., Bengio, Y., Courville, A., and Ng, A., <a href=\"https://www.deeplearningbook.org/contents/guidelines.html\"><em>Deep Learning</em>, pg. 416</a></p>"
   ]
  },
  {
   "cell_type": "markdown",
   "metadata": {
    "slideshow": {
     "slide_type": "subslide"
    }
   },
   "source": [
    "#### Also, Mateusz Bednarski's [*Structure and automated workflow for a machine learning project*](https://towardsdatascience.com/structure-and-automated-workflow-for-a-machine-learning-project-2fa30d661c1e) is a good step-by-step to understand the reasons for all the pieces in a project structure."
   ]
  },
  {
   "cell_type": "markdown",
   "metadata": {
    "slideshow": {
     "slide_type": "slide"
    }
   },
   "source": [
    "# Development Environment\n",
    "\n",
    "The software you use to write code."
   ]
  },
  {
   "cell_type": "markdown",
   "metadata": {
    "slideshow": {
     "slide_type": "subslide"
    }
   },
   "source": [
    "## Jupyter/IPython Notebook\n",
    "\n",
    "<div style=\"column-count: 2;\">\n",
    "    <div style=\"display: inline-block;vertical-align:top\">\n",
    "        <h3>Pros</h3>\n",
    "        <ul>\n",
    "            <li><b>Easy to share documents</b></li>\n",
    "            <li>Interactive</li>\n",
    "            <li>Fast to use and visualize results</li>\n",
    "        </ul>\n",
    "    </div>\n",
    "    <div style=\"display: inline-block;vertical-align:top\">\n",
    "        <h3>Cons</h3>\n",
    "        <ul>\n",
    "            <li><b>Pretty easy to get messy</b></li>\n",
    "            <li><b>Hard to debug</b></li>\n",
    "        </ul>\n",
    "    </div>\n",
    "</div>\n",
    "\n",
    "\n",
    "### Recommended for data exploration, data cleaning and experimentations"
   ]
  },
  {
   "cell_type": "markdown",
   "metadata": {
    "slideshow": {
     "slide_type": "subslide"
    }
   },
   "source": [
    "### Getting started with Jupyter\n",
    "\n",
    "* Notebook basics [1]\n",
    "* Learn Markdown for documentation [2]\n",
    "* IPython basics [3]\n",
    "\n",
    "<p style=\"text-align:right\">[1] <a href=https://jupyter-notebook.readthedocs.io/en/stable/examples/Notebook/Notebook%20Basics.html>Jupyter Notebook Read the Docs: Notebook Basics</a></p>\n",
    "<p style=\"text-align:right\">[2] <a href=https://github.com/adam-p/markdown-here/wiki/Markdown-Cheatsheet>Markdown Cheatsheet</a></p>\n",
    "<p style=\"text-align:right\">[3] <a href=https://ipython.org/ipython-doc/3/interactive/tutorial.html>Introducing IPython</a></p>"
   ]
  },
  {
   "cell_type": "markdown",
   "metadata": {
    "slideshow": {
     "slide_type": "subslide"
    }
   },
   "source": [
    "## IDEs (PyCharm, Spyder, etc.)\n",
    "\n",
    "<div style=\"column-count: 2;\">\n",
    "    <div style=\"display: inline-block;vertical-align:top\">\n",
    "        <h3>Pros</h3>\n",
    "        <ul>\n",
    "            <li><b>Error highlighting, easy to debug</b></li>\n",
    "            <li>Auto-completion, code indentation, etc</li>\n",
    "            <li>Refactoring tools</li>\n",
    "            <li>Visualization tools</li>\n",
    "        </ul>\n",
    "    </div>\n",
    "    <div style=\"display: inline-block;vertical-align:top\">\n",
    "        <h3>Cons</h3>\n",
    "        <ul>\n",
    "            <li><b>Hard to integrate with other tools</b></li>\n",
    "            <li>Usually heavy</li>\n",
    "            <li>Logarithmic learning curve</li>\n",
    "            <li>Abstraction from compile-run-debug process</li>\n",
    "        </ul>\n",
    "    </div>\n",
    "</div>\n",
    "\n",
    "### Recommended for \"hardcore\" code writing"
   ]
  },
  {
   "cell_type": "markdown",
   "metadata": {
    "slideshow": {
     "slide_type": "subslide"
    }
   },
   "source": [
    "### Getting started with PyCharm\n",
    "\n",
    "1. Creating and managing a project\n",
    "1. Customize your environment\n",
    "1. Learn how to run and debug (and test)\n",
    "1. Learn the Scientific Tools (if not in the free version)\n",
    "\n",
    "<p style=\"text-align:right\"><a href=https://www.jetbrains.com/help/pycharm/quick-start-guide.html>Quick Start Guide</a></p>\n",
    "<p style=\"text-align:right\"><a href=https://www.jetbrains.com/help/pycharm/scientific-tools.html>Scientific Tools</a></p>"
   ]
  },
  {
   "cell_type": "markdown",
   "metadata": {
    "slideshow": {
     "slide_type": "subslide"
    }
   },
   "source": [
    "## Code Editors (Atom, VS Code, Sublime, etc.)\n",
    "\n",
    "<div style=\"column-count: 2;\">\n",
    "    <div style=\"display: inline-block;vertical-align:top\">\n",
    "        <h3>Pros</h3>\n",
    "        <ul>\n",
    "            <li><b>Customizable</b></li>\n",
    "            <li>Lightweight</li>\n",
    "            <li>Good for learning about compile-run-debug tools</li>\n",
    "            <li>Integration with external tools</li>\n",
    "        </ul>\n",
    "    </div>\n",
    "    <div style=\"display: inline-block;vertical-align:top\">\n",
    "        <h3>Cons</h3>\n",
    "        <ul>\n",
    "            <li><b>Usually bad for visualization</b></li>\n",
    "            <li>Linear learning curve</li>\n",
    "            <li>Not so good debug tools (compared to IDEs)</li>\n",
    "        </ul>\n",
    "    </div>\n",
    "</div>\n",
    "\n",
    "### Recommended for code writing and workflow automation"
   ]
  },
  {
   "cell_type": "markdown",
   "metadata": {
    "slideshow": {
     "slide_type": "subslide"
    }
   },
   "source": [
    "### Getting started with Visual Studio Code\n",
    "\n",
    "1. Learn the basics [1]\n",
    "1. Learn how to debug [2]\n",
    "1. Use tasks [3]\n",
    "1. Setup a linter [4]\n",
    "1. Explore extensions [5, 6 and 7]\n",
    "\n",
    "\n",
    "<p style=\"text-align:right\">[1] <a href=https://code.visualstudio.com/docs/introvideos/basics>Getting started with Visual Studio Code</a></p>\n",
    "<p style=\"text-align:right\">[2] <a href=https://code.visualstudio.com/docs/editor/debugging>Debugging</a></p>\n",
    "<p style=\"text-align:right\">[3] <a href=https://code.visualstudio.com/docs/editor/tasks>Integrate with External Tools via Tasks</a></p>\n",
    "<p style=\"text-align:right\">[4] <a href=https://code.visualstudio.com/docs/python/linting>Linting Python in VS Code</a></p>\n",
    "<p style=\"text-align:right\">[5] <a href=https://marketplace.visualstudio.com/items?itemName=ms-toolsai.vscode-ai>Visual Studio Code Tools for AI</a></p>\n",
    "<p style=\"text-align:right\">[6] <a href=https://marketplace.visualstudio.com/items?itemName=donjayamanne.jupyter>Jupyter</a></p>\n",
    "<p style=\"text-align:right\">[7] <a href=https://marketplace.visualstudio.com/items?itemName=jithurjacob.nbpreviewer>VS Code Jupyter Notebook Previewer</a></p>\n"
   ]
  },
  {
   "cell_type": "markdown",
   "metadata": {
    "slideshow": {
     "slide_type": "slide"
    }
   },
   "source": [
    "# Tools\n",
    "\n",
    "The essential and some useful tools aswell."
   ]
  },
  {
   "cell_type": "markdown",
   "metadata": {
    "slideshow": {
     "slide_type": "subslide"
    }
   },
   "source": [
    "## NumPy\n",
    "\n",
    "> NumPy is the fundamental package for scientific computing with Python.\n",
    "> <p style=\"text-align:right\" ><a href=http://www.numpy.org/><em>NumPy</a></em></p>"
   ]
  },
  {
   "cell_type": "markdown",
   "metadata": {
    "slideshow": {
     "slide_type": "fragment"
    }
   },
   "source": [
    "* N-dimensional array object and operations\n",
    "* Tools for integrating low-level (more optimized) code (C/C++ and Fortran)\n",
    "* Lots of linear algebra functions"
   ]
  },
  {
   "cell_type": "markdown",
   "metadata": {
    "slideshow": {
     "slide_type": "subslide"
    }
   },
   "source": [
    "## Pandas\n",
    "\n",
    "> An open source, BSD-licensed library providing high-performance, easy-to-use data structures and data analysis tools\n",
    "> <p style=\"text-align:right\" ><a href=https://pandas.pydata.org/><em>Python Data Analysis Library</a></em></p>"
   ]
  },
  {
   "cell_type": "markdown",
   "metadata": {
    "slideshow": {
     "slide_type": "fragment"
    }
   },
   "source": [
    "* Works with data in tabular form (easy to use)\n",
    "* Reads (and writes) data from CSV, TSV, Excel, text and JSON aswell as SQL databases\n",
    "* A LOT of out-of-the-box functions\n",
    "* Highlights: reshape, group by and merging and joining"
   ]
  },
  {
   "cell_type": "markdown",
   "metadata": {
    "slideshow": {
     "slide_type": "subslide"
    }
   },
   "source": [
    "### Getting started with Pandas\n",
    "\n",
    "1. [10 minutes to pandas](http://pandas.pydata.org/pandas-docs/stable/10min.html)\n",
    "1. Overview on [Intro to Data Structures](http://pandas.pydata.org/pandas-docs/stable/dsintro.html)\n",
    "1. Overview on [Essential Basic Functionality](http://pandas.pydata.org/pandas-docs/stable/basics.html)\n",
    "1. [Group By: split-apply-combine](http://pandas.pydata.org/pandas-docs/stable/groupby.html)\n",
    "1. [Categorical Data](http://pandas.pydata.org/pandas-docs/stable/categorical.html)\n",
    "1. [...](http://pandas.pydata.org/pandas-docs/stable/index.html)"
   ]
  },
  {
   "cell_type": "markdown",
   "metadata": {
    "slideshow": {
     "slide_type": "skip"
    }
   },
   "source": [
    "<iframe src=\"img/Pandas_Cheat_Sheet.pdf\" width=800 height=600></iframe>"
   ]
  },
  {
   "cell_type": "code",
   "execution_count": 2,
   "metadata": {
    "slideshow": {
     "slide_type": "skip"
    }
   },
   "outputs": [
    {
     "data": {
      "text/html": [
       "<iframe src=img/Pandas_Cheat_Sheet.pdf width=800 height=600></iframe>"
      ],
      "text/latex": [
       "\\includegraphics[width=1.0\\textwidth]{img/Pandas_Cheat_Sheet.pdf}"
      ],
      "text/plain": [
       "<__main__.PDF at 0x7f9b58b16978>"
      ]
     },
     "execution_count": 2,
     "metadata": {},
     "output_type": "execute_result"
    }
   ],
   "source": [
    "class PDF(object):\n",
    "  def __init__(self, pdf, size=(200,200)):\n",
    "    self.pdf = pdf\n",
    "    self.size = size\n",
    "\n",
    "  def _repr_html_(self):\n",
    "    return '<iframe src={0} width={1[0]} height={1[1]}></iframe>'.format(self.pdf, self.size)\n",
    "\n",
    "  def _repr_latex_(self):\n",
    "    return r'\\includegraphics[width=1.0\\textwidth]{{{0}}}'.format(self.pdf)\n",
    "\n",
    "PDF('img/Pandas_Cheat_Sheet.pdf',size=(800,600))"
   ]
  },
  {
   "cell_type": "markdown",
   "metadata": {
    "slideshow": {
     "slide_type": "subslide"
    }
   },
   "source": [
    "## scikit-learn"
   ]
  },
  {
   "cell_type": "markdown",
   "metadata": {
    "slideshow": {
     "slide_type": "fragment"
    }
   },
   "source": [
    "* Covers most of traditional machine-learning models/tasks\n",
    "* Open source and built upon NumPy and SciPy\n",
    "* Excelent documentation, very friendly for new users\n",
    "* A lot of great tools for data analysis"
   ]
  },
  {
   "cell_type": "markdown",
   "metadata": {
    "slideshow": {
     "slide_type": "subslide"
    }
   },
   "source": [
    "### Getting started with scikit-learn\n",
    "\n",
    "1. [An introduction to machine learning with scikit-learn](http://scikit-learn.org/stable/tutorial/basic/tutorial.html)\n",
    "1. [User Guide](http://scikit-learn.org/stable/user_guide.html)"
   ]
  },
  {
   "cell_type": "markdown",
   "metadata": {
    "slideshow": {
     "slide_type": "subslide"
    }
   },
   "source": [
    "![scikit-learn algorithm cheat-sheet](img/sklearn_ml_map.png)"
   ]
  },
  {
   "cell_type": "markdown",
   "metadata": {
    "slideshow": {
     "slide_type": "subslide"
    }
   },
   "source": [
    "## seaborn\n",
    "\n",
    "> Seaborn is a library for making statistical graphics in Python. It is built on top of matplotlib and closely integrated with pandas data structures.\n",
    "> <p style=\"text-align:right\" ><a href=https://seaborn.pydata.org/introduction.html#introduction><em>An introduction to seaborn</a></em></p>"
   ]
  },
  {
   "cell_type": "markdown",
   "metadata": {
    "slideshow": {
     "slide_type": "fragment"
    }
   },
   "source": [
    "* **Main difference: built for data science**\n",
    "* Multiple out-of-the-box \"views\" made for data visualization and data relationship analysis\n",
    "* High-level abstraction for multi-plot grids\n",
    "* Great support for categorical data\n",
    "* Pretty and customizable"
   ]
  },
  {
   "cell_type": "markdown",
   "metadata": {
    "slideshow": {
     "slide_type": "subslide"
    }
   },
   "source": [
    "![Error bars](img/sns_error_bars.png)"
   ]
  },
  {
   "cell_type": "markdown",
   "metadata": {
    "slideshow": {
     "slide_type": "subslide"
    }
   },
   "source": [
    "![Multi-plot Grid](img/sns_plot_grid.png)"
   ]
  },
  {
   "cell_type": "markdown",
   "metadata": {
    "slideshow": {
     "slide_type": "subslide"
    }
   },
   "source": [
    "![Categorical data](img/sns_cat_data.png)"
   ]
  },
  {
   "cell_type": "markdown",
   "metadata": {
    "slideshow": {
     "slide_type": "subslide"
    }
   },
   "source": [
    "### Getting started with seaborn\n",
    "\n",
    "1. Visualize data relationships [1 and 2]\n",
    "1. Work with categorical data [3]\n",
    "1. Visualize distributions [4]\n",
    "1. Multi-plot grids [5]\n",
    "\n",
    "<p style=\"text-align:right\">[1] <a href=https://seaborn.pydata.org/tutorial/relational.html>Visualizing statistical relationships</a></p>\n",
    "<p style=\"text-align:right\">[2] <a href=https://seaborn.pydata.org/tutorial/regression.html>Visualizing linear realtionships</a></p>\n",
    "<p style=\"text-align:right\">[3] <a href=https://seaborn.pydata.org/tutorial/categorical.html>Plotting with categorical data</a></p>\n",
    "<p style=\"text-align:right\">[4] <a href=https://seaborn.pydata.org/tutorial/distributions.html>Visualizing the distribution of a dataset</a></p>\n",
    "<p style=\"text-align:right\">[5] <a href=https://seaborn.pydata.org/tutorial/axis_grids.html>Buildling structured multi-plot grids</a></p>"
   ]
  },
  {
   "cell_type": "markdown",
   "metadata": {
    "slideshow": {
     "slide_type": "subslide"
    }
   },
   "source": [
    "## TensorFlow\n",
    "\n",
    "> An open source software library for high performance numerical computation\n",
    "> <p style=\"text-align:right\"><a href=https://www.tensorflow.org/>About TensorFlow</a></p>"
   ]
  },
  {
   "cell_type": "markdown",
   "metadata": {
    "slideshow": {
     "slide_type": "fragment"
    }
   },
   "source": [
    "* Production ready\n",
    "* Fast\n",
    "* Works with GPU and TPU (Tensor Processor Unit)\n",
    "* Complete but complex!"
   ]
  },
  {
   "cell_type": "markdown",
   "metadata": {
    "slideshow": {
     "slide_type": "subslide"
    }
   },
   "source": [
    "## Keras\n",
    "\n",
    "> Being able to go from idea to result with the least possible delay is key to doing good research.\n",
    "> <p style=\"text-align:right\"><a href=https://keras.io//>Keras: The Python Deep Learning library</a></p>"
   ]
  },
  {
   "cell_type": "markdown",
   "metadata": {
    "slideshow": {
     "slide_type": "fragment"
    }
   },
   "source": [
    "* Runs upon **TensorFlow**, CNTK ou Theano\n",
    "* User friendly\n",
    "* Allows easy and fast prototyping\n",
    "* Supports convolutional and recurrent networks\n",
    "* Modular and extensible: works with building blocks"
   ]
  },
  {
   "cell_type": "markdown",
   "metadata": {
    "slideshow": {
     "slide_type": "subslide"
    }
   },
   "source": [
    "### Getting started with Keras\n",
    "\n",
    "1. [Getting started: 30 seconds to Keras](https://keras.io/#getting-started-30-seconds-to-keras)\n",
    "1. Run Keras with TensorFlow [1]\n",
    "1. Learn the Sequential model [2]\n",
    "1. Learn the Functional API [3]\n",
    "\n",
    "<p style=\"text-align:right\">[1] <a href=https://www.tensorflow.org/guide/keras>Keras</a></p>\n",
    "<p style=\"text-align:right\">[2] <a href=https://keras.io/getting-started/sequential-model-guide/>Getting started with the Keras Sequential model</a></p>\n",
    "<p style=\"text-align:right\">[3] <a href=https://keras.io/getting-started/functional-api-guide/>Getting started with the Keras functional API</a></p>"
   ]
  },
  {
   "cell_type": "markdown",
   "metadata": {
    "slideshow": {
     "slide_type": "subslide"
    }
   },
   "source": [
    "## StatsModels\n",
    "\n",
    "> statsmodels is a Python module that provides classes and functions for the estimation of many different statistical models, as well as for conducting statistical tests, and statistical data exploration.\n",
    "> <p style=\"text-align:right\"><a href=https://www.statsmodels.org/stable/index.html>StatsModels: Statistics in Python</a></p>"
   ]
  },
  {
   "cell_type": "markdown",
   "metadata": {
    "slideshow": {
     "slide_type": "fragment"
    }
   },
   "source": [
    "* Statistical models\n",
    "* Statistical tests\n",
    "\n",
    "### [Getting started with StatsModels](https://www.statsmodels.org/stable/gettingstarted.html)"
   ]
  },
  {
   "cell_type": "markdown",
   "metadata": {
    "slideshow": {
     "slide_type": "subslide"
    }
   },
   "source": [
    "## XGBoost\n",
    "\n",
    "> It implements machine learning algorithms under the Gradient Boosting framework.\n",
    "> <p style=\"text-align:right\"><a href=https://xgboost.readthedocs.io/en/latest/>XGBoost Documentation</a></p>"
   ]
  },
  {
   "cell_type": "markdown",
   "metadata": {
    "slideshow": {
     "slide_type": "fragment"
    }
   },
   "source": [
    "* [Gradient Boosting](https://en.wikipedia.org/wiki/Gradient_boosting) is a model upon the ensemble of small models\n",
    "* Extremely popular in ML competitions\n",
    "* Highly optimized, scalable and fast\n",
    "\n",
    "### [Getting started with XGBoost](https://xgboost.readthedocs.io/en/latest/get_started.html)"
   ]
  },
  {
   "cell_type": "markdown",
   "metadata": {
    "slideshow": {
     "slide_type": "subslide"
    }
   },
   "source": [
    "## NLTK\n",
    "\n",
    "> NLTK is a leading platform for building Python programs to work with human language data.\n",
    "> <p style=\"text-align:right\"><a href=https://www.nltk.org/>Natural Language Toolkit</a></p>"
   ]
  },
  {
   "cell_type": "markdown",
   "metadata": {
    "slideshow": {
     "slide_type": "fragment"
    }
   },
   "source": [
    "* Actually is a set of libraries\n",
    "* Tools to process and analyze text\n",
    "* Easy-to-use interfaces with several lexical resources\n",
    "\n",
    "### [Getting started with NLTK](http://www.nltk.org/book/)"
   ]
  },
  {
   "cell_type": "markdown",
   "metadata": {
    "slideshow": {
     "slide_type": "subslide"
    }
   },
   "source": [
    "## Scrapy\n",
    "\n",
    "> An open source and collaborative framework for extracting the data you need from websites. In a fast, simple, yet extensible way.\n",
    "> <p style=\"text-align:right\"><a href=https://scrapy.org/>Scrapy | A Fast and Powerful Scraping and Web Crawling Framework</a></p>"
   ]
  },
  {
   "cell_type": "markdown",
   "metadata": {
    "slideshow": {
     "slide_type": "skip"
    }
   },
   "source": [
    "* Scraping, crawling and also APIs data gathering\n",
    "* Intended for building scalable crawlers\n",
    "\n",
    "### [Getting started with Scrapy](https://docs.scrapy.org/en/latest/intro/tutorial.html)"
   ]
  },
  {
   "cell_type": "markdown",
   "metadata": {
    "slideshow": {
     "slide_type": "slide"
    }
   },
   "source": [
    "# That's it!\n",
    "\n",
    "Thank you!"
   ]
  }
 ],
 "metadata": {
  "celltoolbar": "Slideshow",
  "kernelspec": {
   "display_name": "Python 3",
   "language": "python",
   "name": "python3"
  },
  "language_info": {
   "codemirror_mode": {
    "name": "ipython",
    "version": 3
   },
   "file_extension": ".py",
   "mimetype": "text/x-python",
   "name": "python",
   "nbconvert_exporter": "python",
   "pygments_lexer": "ipython3",
   "version": "3.6.5"
  }
 },
 "nbformat": 4,
 "nbformat_minor": 2
}
