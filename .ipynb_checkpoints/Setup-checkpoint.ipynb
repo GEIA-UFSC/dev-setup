{
 "cells": [
  {
   "cell_type": "markdown",
   "metadata": {
    "slideshow": {
     "slide_type": "slide"
    }
   },
   "source": [
    "# Getting Ready for Development\n",
    "\n",
    "Bruno M. Pacheco\n",
    "\n",
    "GEIA - Grupo de Estudos em Inteligência Artificial"
   ]
  },
  {
   "cell_type": "markdown",
   "metadata": {
    "slideshow": {
     "slide_type": "subslide"
    }
   },
   "source": [
    "## Content\n",
    "\n",
    "1. Operational System\n",
    "1. Programming Language\n",
    "1. Dependencies Management\n",
    "1. Project Structure\n",
    "1. IDE\n",
    "1. Tools/libs"
   ]
  },
  {
   "cell_type": "markdown",
   "metadata": {
    "slideshow": {
     "slide_type": "slide"
    }
   },
   "source": [
    "# Operational System\n",
    "\n",
    "What is the best OS for machine learning development?"
   ]
  },
  {
   "cell_type": "markdown",
   "metadata": {
    "slideshow": {
     "slide_type": "subslide"
    }
   },
   "source": [
    "## Why Linux?"
   ]
  },
  {
   "cell_type": "markdown",
   "metadata": {
    "slideshow": {
     "slide_type": "fragment"
    }
   },
   "source": [
    "### Widely used\n",
    "\n",
    "* Google uses a debian derivative version\n",
    "* Even IBM Watson and Cortana\n",
    "* Top 100 mainframes all use Linux\n",
    "\n",
    "<a href=\"https://www.quora.com/What-linux-distribution-is-best-for-AI-Machine-Learning-Researchers\"><p style=\"text-align:right\">Quora</p></a>"
   ]
  },
  {
   "cell_type": "markdown",
   "metadata": {
    "slideshow": {
     "slide_type": "fragment"
    }
   },
   "source": [
    "### **Dev tools**\n",
    "* They are usually developed in Linux and then ported to Windows\n",
    "* They usually run much smoother and with more predictable results in Linux"
   ]
  },
  {
   "cell_type": "markdown",
   "metadata": {
    "slideshow": {
     "slide_type": "subslide"
    }
   },
   "source": [
    "## Which Linux?\n",
    "\n",
    "You should use the one that makes you more confortable with.\n",
    "\n",
    "<a href=\"https://www.slant.co/topics/9702/~os-for-deep-learning\"><p style=\"text-align:right\">What are the best OS for deep learning</p></a>"
   ]
  },
  {
   "cell_type": "markdown",
   "metadata": {
    "slideshow": {
     "slide_type": "subslide"
    }
   },
   "source": [
    "### Arch Linux\n",
    "\n",
    "- Really raw Linux, which means no bloatware\n",
    "- But also means it does not comes ready out of the box\n",
    "- Meant for experienced Linux users, so gives the user control over everything (no handholding)"
   ]
  },
  {
   "cell_type": "markdown",
   "metadata": {
    "slideshow": {
     "slide_type": "subslide"
    }
   },
   "source": [
    "### Ubuntu\n",
    "\n",
    "- Easy and works out of the box, with already a wide range of software\n",
    "- Less steep learning curve\n",
    "- Better visual"
   ]
  },
  {
   "cell_type": "markdown",
   "metadata": {
    "slideshow": {
     "slide_type": "subslide"
    }
   },
   "source": [
    "### Debian GNU/Linux\n",
    "\n",
    "- One of the oldest distros, which means a very complete community\n",
    "- Limited driver support\n",
    "- Very standard, kind of the starting point for most distros"
   ]
  },
  {
   "cell_type": "markdown",
   "metadata": {},
   "source": [
    "## Ubuntu\n",
    "\n",
    "Because it is pretty out-of-the-box."
   ]
  },
  {
   "cell_type": "markdown",
   "metadata": {},
   "source": [
    "### Installation\n",
    "\n",
    "1. Watch out for LTS versions (LTS = Long Term Support for 5 years instead of 6 months)\n",
    "1. Learn Terminal basics\n",
    "    * cd\n",
    "    * ls\n",
    "    * rm\n",
    "    * mv\n",
    "    * mkdir\n",
    "    * echo\n",
    "    * cat\n",
    "    * \">\"\n",
    "    * sudo\n",
    "    * chmod\n",
    "    * ...\n",
    "1. Learn how to install software through package managers (apt-get or yum)"
   ]
  },
  {
   "cell_type": "markdown",
   "metadata": {
    "slideshow": {
     "slide_type": "slide"
    }
   },
   "source": [
    "# Programming Language"
   ]
  },
  {
   "cell_type": "markdown",
   "metadata": {
    "slideshow": {
     "slide_type": "fragment"
    }
   },
   "source": [
    ">There is no such thing as a ‘best language for machine learning’ and it all depends on what you want to build, where you’re coming from and why you got involved in machine learning\"\n",
    "><p  style=\"font-size:0.8em; text-align:right\">- Developer Economics, <a href=\"http://vmob.me/DE1Q17\"><em>State of the Developer Nation Q1 2017</em></a></p>"
   ]
  },
  {
   "cell_type": "markdown",
   "metadata": {
    "slideshow": {
     "slide_type": "subslide"
    }
   },
   "source": [
    "![Most Used Languages for ML](img/most_used_languages_ml.png)"
   ]
  },
  {
   "cell_type": "markdown",
   "metadata": {
    "slideshow": {
     "slide_type": "subslide"
    }
   },
   "source": [
    "## Python 2 or 3 ?\n",
    "\n",
    "3, because 2 is legacy!"
   ]
  },
  {
   "cell_type": "markdown",
   "metadata": {
    "slideshow": {
     "slide_type": "slide"
    }
   },
   "source": [
    "# Dependencies Management"
   ]
  },
  {
   "cell_type": "markdown",
   "metadata": {
    "slideshow": {
     "slide_type": "subslide"
    }
   },
   "source": [
    "## But why should I care about my dependencies?\n",
    "\n",
    "* Outdated applications/packages\n",
    "* Co-workers sync\n",
    "* Deploy to client"
   ]
  },
  {
   "cell_type": "markdown",
   "metadata": {
    "slideshow": {
     "slide_type": "subslide"
    }
   },
   "source": [
    "## Environments\n",
    "\n",
    "The purpose of virtual environments are to isolate one project from another, each one of them having its own depencies and dependencies versions.\n"
   ]
  },
  {
   "cell_type": "markdown",
   "metadata": {
    "slideshow": {
     "slide_type": "subslide"
    }
   },
   "source": [
    "## Solutions\n",
    "\n",
    "* pip + virtualenv + virtualenvwrapper [1]\n",
    "* **conda** [2]\n",
    "* docker\n",
    "\n",
    "<p style=\"text-align:right\" >[1]<a href=https://realpython.com/python-virtual-environments-a-primer/ >Python Virtual Environments: A Primer</a></p>\n",
    "<p style=\"text-align:right\" >[2]<a href=https://medium.freecodecamp.org/why-you-need-python-environments-and-how-to-manage-them-with-conda-85f155f4353c >Why you need Python environments and how to manage them with Conda</a></p>"
   ]
  },
  {
   "cell_type": "markdown",
   "metadata": {
    "slideshow": {
     "slide_type": "subslide"
    }
   },
   "source": [
    "### Conda\n",
    "\n",
    "Because it is easy and has a lot of packages.\n",
    "\n",
    "![Conda Draw](img/conda-draw.jpeg)"
   ]
  },
  {
   "cell_type": "markdown",
   "metadata": {
    "slideshow": {
     "slide_type": "subslide"
    }
   },
   "source": [
    "#### Conda Installation\n",
    "\n",
    "* **Anaconda** vs\n",
    "* Miniconda\n",
    "\n",
    "Also 32- vs 64-bit and Python 2.7 vs 3.x versions.\n",
    "\n",
    "<a href=\"https://conda.io/docs/user-guide/install/index.html\"><p style=\"text-align:right\">Installation</p></a>"
   ]
  },
  {
   "cell_type": "markdown",
   "metadata": {
    "slideshow": {
     "slide_type": "subslide"
    }
   },
   "source": [
    "#### Getting started\n",
    "\n",
    "Learn how to:\n",
    "* Create environments\n",
    "* Activate environments\n",
    "* Manage packages (install, update, specify versions, search, remove, etc.)\n",
    "\n",
    "<a href=\"https://conda.io/docs/_downloads/conda-cheatsheet.pdf\"><p style=\"text-align:right\">Conda Cheatsheet</p></a>\n",
    "<a href=\"https://conda.io/docs/user-guide/getting-started.html\"><p style=\"text-align:right\">Getting started with conda</p></a>"
   ]
  },
  {
   "cell_type": "markdown",
   "metadata": {
    "slideshow": {
     "slide_type": "fragment"
    }
   },
   "source": [
    "![Conda Channels](img/conda-channels.jpeg)"
   ]
  }
 ],
 "metadata": {
  "celltoolbar": "Slideshow",
  "kernelspec": {
   "display_name": "Python 3",
   "language": "python",
   "name": "python3"
  },
  "language_info": {
   "codemirror_mode": {
    "name": "ipython",
    "version": 3
   },
   "file_extension": ".py",
   "mimetype": "text/x-python",
   "name": "python",
   "nbconvert_exporter": "python",
   "pygments_lexer": "ipython3",
   "version": "3.7.0"
  }
 },
 "nbformat": 4,
 "nbformat_minor": 2
}
