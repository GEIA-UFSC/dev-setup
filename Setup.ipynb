{
 "cells": [
  {
   "cell_type": "markdown",
   "metadata": {
    "slideshow": {
     "slide_type": "slide"
    }
   },
   "source": [
    "# Getting Ready for Development\n",
    "\n",
    "Bruno M. Pacheco\n",
    "\n",
    "GEIA - Grupo de Estudos em Inteligência Artificial"
   ]
  },
  {
   "cell_type": "markdown",
   "metadata": {
    "slideshow": {
     "slide_type": "subslide"
    }
   },
   "source": [
    "## Content\n",
    "\n",
    "1. Operational System\n",
    "1. Programming Language\n",
    "1. Dependencies Management\n",
    "1. Project Structure\n",
    "1. Development Environment\n",
    "1. Tools/libs"
   ]
  },
  {
   "cell_type": "markdown",
   "metadata": {
    "slideshow": {
     "slide_type": "slide"
    }
   },
   "source": [
    "# Operational System"
   ]
  },
  {
   "cell_type": "markdown",
   "metadata": {
    "slideshow": {
     "slide_type": "fragment"
    }
   },
   "source": [
    "What is the best OS for machine learning development?"
   ]
  },
  {
   "cell_type": "markdown",
   "metadata": {
    "slideshow": {
     "slide_type": "subslide"
    }
   },
   "source": [
    "## Why Linux?"
   ]
  },
  {
   "cell_type": "markdown",
   "metadata": {
    "slideshow": {
     "slide_type": "fragment"
    }
   },
   "source": [
    "### Widely used\n",
    "\n",
    "* Google uses a debian derivative version\n",
    "* Even IBM Watson and Cortana\n",
    "* Top 100 mainframes all use Linux\n",
    "\n",
    "<a href=\"https://www.quora.com/What-linux-distribution-is-best-for-AI-Machine-Learning-Researchers\"><p style=\"text-align:right\">Quora</p></a>"
   ]
  },
  {
   "cell_type": "markdown",
   "metadata": {
    "slideshow": {
     "slide_type": "fragment"
    }
   },
   "source": [
    "### **Dev tools**\n",
    "* They are usually developed in Linux and then ported to Windows\n",
    "* They usually run much smoother and with more predictable results in Linux"
   ]
  },
  {
   "cell_type": "markdown",
   "metadata": {
    "slideshow": {
     "slide_type": "subslide"
    }
   },
   "source": [
    "## Which Linux?"
   ]
  },
  {
   "cell_type": "markdown",
   "metadata": {
    "slideshow": {
     "slide_type": "fragment"
    }
   },
   "source": [
    "You should use the one that makes you more confortable with.\n",
    "\n",
    "<a href=\"https://www.slant.co/topics/9702/~os-for-deep-learning\"><p style=\"text-align:right\">What are the best OS for deep learning</p></a>"
   ]
  },
  {
   "cell_type": "markdown",
   "metadata": {
    "slideshow": {
     "slide_type": "subslide"
    }
   },
   "source": [
    "### Arch Linux\n",
    "\n",
    "- Really raw Linux, which means no bloatware\n",
    "- But also means it does not comes ready out of the box\n",
    "- Meant for experienced Linux users, so gives the user control over everything (no handholding)"
   ]
  },
  {
   "cell_type": "markdown",
   "metadata": {
    "slideshow": {
     "slide_type": "subslide"
    }
   },
   "source": [
    "### Ubuntu\n",
    "\n",
    "- Easy and works out of the box, with already a wide range of software\n",
    "- Less steep learning curve\n",
    "- Better visual"
   ]
  },
  {
   "cell_type": "markdown",
   "metadata": {
    "slideshow": {
     "slide_type": "subslide"
    }
   },
   "source": [
    "### Debian GNU/Linux\n",
    "\n",
    "- One of the oldest distros, which means a very complete community\n",
    "- Limited driver support\n",
    "- Very standard, kind of the starting point for most distros"
   ]
  },
  {
   "cell_type": "markdown",
   "metadata": {
    "slideshow": {
     "slide_type": "subslide"
    }
   },
   "source": [
    "## Ubuntu"
   ]
  },
  {
   "cell_type": "markdown",
   "metadata": {
    "slideshow": {
     "slide_type": "fragment"
    }
   },
   "source": [
    "Because it is pretty out-of-the-box."
   ]
  },
  {
   "cell_type": "markdown",
   "metadata": {
    "slideshow": {
     "slide_type": "subslide"
    }
   },
   "source": [
    "### Installation\n",
    "\n",
    "1. Watch out for LTS versions (LTS = Long Term Support for 5 years instead of 6 months)\n",
    "1. Learn Terminal basics\n",
    "    * cd, ls, rm, mv, mkdir, echo, cat, \">\", sudo, --help, chmod,...\n",
    "1. Learn how to install software through package managers (apt-get or yum)"
   ]
  },
  {
   "cell_type": "markdown",
   "metadata": {
    "slideshow": {
     "slide_type": "slide"
    }
   },
   "source": [
    "# Programming Language"
   ]
  },
  {
   "cell_type": "markdown",
   "metadata": {
    "slideshow": {
     "slide_type": "fragment"
    }
   },
   "source": [
    ">There is no such thing as a ‘best language for machine learning’ and it all depends on what you want to build, where you’re coming from and why you got involved in machine learning\"\n",
    "><p  style=\"font-size:0.8em; text-align:right\">- Developer Economics, <a href=\"http://vmob.me/DE1Q17\"><em>State of the Developer Nation Q1 2017</em></a></p>"
   ]
  },
  {
   "cell_type": "markdown",
   "metadata": {
    "slideshow": {
     "slide_type": "subslide"
    }
   },
   "source": [
    "![Most Used Languages for ML](img/most_used_languages_ml.png)"
   ]
  },
  {
   "cell_type": "markdown",
   "metadata": {
    "slideshow": {
     "slide_type": "subslide"
    }
   },
   "source": [
    "## Python 2 or 3?"
   ]
  },
  {
   "cell_type": "markdown",
   "metadata": {
    "slideshow": {
     "slide_type": "fragment"
    }
   },
   "source": [
    "3, because 2 is **legacy**!"
   ]
  },
  {
   "cell_type": "markdown",
   "metadata": {
    "slideshow": {
     "slide_type": "slide"
    }
   },
   "source": [
    "# Dependencies Management"
   ]
  },
  {
   "cell_type": "markdown",
   "metadata": {
    "slideshow": {
     "slide_type": "subslide"
    }
   },
   "source": [
    "## But why should I care about my dependencies?\n",
    "\n",
    "* Outdated applications/packages\n",
    "* Co-workers sync\n",
    "* Deploy to client"
   ]
  },
  {
   "cell_type": "markdown",
   "metadata": {
    "slideshow": {
     "slide_type": "subslide"
    }
   },
   "source": [
    "## Environments\n",
    "\n",
    "The purpose of virtual environments is to isolate one project from another, each one of them having its own depencies and dependencies versions.\n"
   ]
  },
  {
   "cell_type": "markdown",
   "metadata": {
    "slideshow": {
     "slide_type": "subslide"
    }
   },
   "source": [
    "## Solutions\n",
    "\n",
    "* pip + virtualenv + virtualenvwrapper [1]\n",
    "* **conda** [2]\n",
    "* Docker\n",
    "\n",
    "<p style=\"text-align:right\" >[1]<a href=https://realpython.com/python-virtual-environments-a-primer/ >Python Virtual Environments: A Primer</a></p>\n",
    "<p style=\"text-align:right\" >[2]<a href=https://medium.freecodecamp.org/why-you-need-python-environments-and-how-to-manage-them-with-conda-85f155f4353c >Why you need Python environments and how to manage them with Conda</a></p>"
   ]
  },
  {
   "cell_type": "markdown",
   "metadata": {
    "slideshow": {
     "slide_type": "subslide"
    }
   },
   "source": [
    "### Conda\n",
    "\n",
    "Because it is easy and has a lot of packages."
   ]
  },
  {
   "cell_type": "markdown",
   "metadata": {
    "slideshow": {
     "slide_type": "subslide"
    }
   },
   "source": [
    "![Conda Draw](img/conda-draw.jpeg)"
   ]
  },
  {
   "cell_type": "markdown",
   "metadata": {
    "slideshow": {
     "slide_type": "subslide"
    }
   },
   "source": [
    "#### Conda Installation\n",
    "\n",
    "* **Anaconda** vs\n",
    "* Miniconda\n",
    "\n",
    "Also 32- vs 64-bit and Python 2.7 vs 3.x versions.\n",
    "\n",
    "<a href=\"https://conda.io/docs/user-guide/install/index.html\"><p style=\"text-align:right\">Installation</p></a>"
   ]
  },
  {
   "cell_type": "markdown",
   "metadata": {
    "slideshow": {
     "slide_type": "subslide"
    }
   },
   "source": [
    "#### Getting started\n",
    "\n",
    "Learn how to:\n",
    "* Create environments\n",
    "* Activate environments\n",
    "* Manage packages (install, update, specify versions, search, remove, etc.)\n",
    "\n",
    "<a href=\"https://conda.io/docs/_downloads/conda-cheatsheet.pdf\"><p style=\"text-align:right\">Conda Cheatsheet</p></a>\n",
    "<a href=\"https://conda.io/docs/user-guide/getting-started.html\"><p style=\"text-align:right\">Getting started with conda</p></a>"
   ]
  },
  {
   "cell_type": "markdown",
   "metadata": {
    "slideshow": {
     "slide_type": "subslide"
    }
   },
   "source": [
    "![Conda Channels](img/conda-channels.jpeg)"
   ]
  },
  {
   "cell_type": "markdown",
   "metadata": {
    "slideshow": {
     "slide_type": "slide"
    }
   },
   "source": [
    "# Project Structure"
   ]
  },
  {
   "cell_type": "markdown",
   "metadata": {
    "slideshow": {
     "slide_type": "fragment"
    }
   },
   "source": [
    "> Do machine learning like the great engineer you are, not like the great machine learning expert you aren’t\n",
    "> <p style=\"text-align:right\" >Martin Zinkevich, <a href=http://martin.zinkevich.org/rules_of_ml/rules_of_ml.pdf><em>Rules of Machine Learning: Best Practices for ML Engineering</a></em></p>"
   ]
  },
  {
   "cell_type": "markdown",
   "metadata": {
    "slideshow": {
     "slide_type": "subslide"
    }
   },
   "source": [
    "## Why?\n",
    "\n",
    "* Readability\n",
    "* Reproducibility\n",
    "\n",
    "<p style=\"text-align:right\" ><a href=http://drivendata.github.io/cookiecutter-data-science/#why-use-this-project-structure >Cookiecutter Data Science: Why use this project structure?</a></p>\n",
    "<p style=\"text-align:right\" >Whitenack, D., <a href=https://www.oreilly.com/ideas/putting-the-science-back-in-data-science ><em>Putting the science back in data science</em></a></p>\n",
    "<p style=\"text-align:right\" >Towards Machine Learning, <a href=https://towardsml.com/2018/08/06/how-great-products-are-made-rules-of-machine-learning-by-google-a-summary/ ><em>How great products are made: Rules of Machine Learning by Google, a Summary</em></a></p>"
   ]
  },
  {
   "cell_type": "markdown",
   "metadata": {
    "slideshow": {
     "slide_type": "subslide"
    }
   },
   "source": [
    "> Ever tried to reproduce an analysis that you did a few months ago or even a few years ago? You may have written the code, but it's now impossible to decipher whether you should use make_figures.py.old, make_figures_working.py or new_make_figures01.py to get things done\n",
    "> <p style=\"text-align:right\" ><a href=http://drivendata.github.io/cookiecutter-data-science/#why-use-this-project-structure >Cookiecutter Data Science: Why use this project structure?</a></p>"
   ]
  },
  {
   "cell_type": "markdown",
   "metadata": {
    "slideshow": {
     "slide_type": "subslide"
    }
   },
   "source": [
    "## Cookiecutter Data Science"
   ]
  },
  {
   "cell_type": "markdown",
   "metadata": {
    "slideshow": {
     "slide_type": "fragment"
    }
   },
   "source": [
    "![Cookiecutter DS Initialization](img/cookiecutter-ds-intialization.png)"
   ]
  },
  {
   "cell_type": "markdown",
   "metadata": {
    "slideshow": {
     "slide_type": "subslide"
    }
   },
   "source": [
    "```\n",
    "├── LICENSE\n",
    "├── Makefile           <- Makefile with commands like `make data` or `make train`\n",
    "├── README.md          <- The top-level README for developers using this project.\n",
    "├── data\n",
    "│   ├── external       <- Data from third party sources.\n",
    "│   ├── interim        <- Intermediate data that has been transformed.\n",
    "│   ├── processed      <- The final, canonical data sets for modeling.\n",
    "│   └── raw            <- The original, immutable data dump.\n",
    "│\n",
    "├── docs               <- A default Sphinx project; see sphinx-doc.org for details\n",
    "│\n",
    "├── models             <- Trained and serialized models, model predictions, or model summaries\n",
    "│\n",
    "├── notebooks          <- Jupyter notebooks. Naming convention is a number (for ordering),\n",
    "│                         the creator's initials, and a short `-` delimited description, e.g.\n",
    "│                         `1.0-jqp-initial-data-exploration`.\n",
    "│\n",
    "├── references         <- Data dictionaries, manuals, and all other explanatory materials.\n",
    "│\n",
    "├── reports            <- Generated analysis as HTML, PDF, LaTeX, etc.\n",
    "│   └── figures        <- Generated graphics and figures to be used in reporting\n",
    "│\n",
    "├── requirements.txt   <- The requirements file for reproducing the analysis environment, e.g.\n",
    "│                         generated with `pip freeze > requirements.txt`\n",
    "│\n",
    "├── src                <- Source code for use in this project.\n",
    "│   ├── __init__.py    <- Makes src a Python module\n",
    "│   │\n",
    "│   ├── data           <- Scripts to download or generate data\n",
    "│   │   └── make_dataset.py\n",
    "│   │\n",
    "│   ├── features       <- Scripts to turn raw data into features for modeling\n",
    "│   │   └── build_features.py\n",
    "│   │\n",
    "│   ├── models         <- Scripts to train models and then use trained models to make\n",
    "│   │   │                 predictions\n",
    "│   │   ├── predict_model.py\n",
    "│   │   └── train_model.py\n",
    "│   │\n",
    "│   └── visualization  <- Scripts to create exploratory and results oriented visualizations\n",
    "│       └── visualize.py\n",
    "│\n",
    "└── tox.ini            <- tox file with settings for running tox; see tox.testrun.org\n",
    "```"
   ]
  },
  {
   "cell_type": "markdown",
   "metadata": {
    "slideshow": {
     "slide_type": "subslide"
    }
   },
   "source": [
    "### Workflow\n",
    "\n",
    "But now, what should I do with all these files and folders?"
   ]
  },
  {
   "cell_type": "markdown",
   "metadata": {
    "slideshow": {
     "slide_type": "subslide"
    }
   },
   "source": [
    "#### Some tips\n",
    "\n",
    "> * Determine your goals — what error metric to use, and your target value for this error metric. These goals and error metrics should be driven by the problem that the application is intended to solve.\n",
    "> * Establish a working end-to-end pipeline as soon as possible, including the estimation of the appropriate performance metrics.\n",
    "> * Instrument the system well to determine bottlenecks in performance. Diagnose which components are performing worse than expected and whether poor performance is due to overﬁtting, underﬁtting, or a defect in the data or software.\n",
    "> * Repeatedly make incremental changes such as gathering new data, adjusting hyperparameters, or changing algorithms, based on speciﬁc ﬁndings from your instrumentation.\n",
    "<p style=\"text-align:right\">Goodfellow, I., Bengio, Y., Courville, A., and Ng, A., <a href=\"https://www.deeplearningbook.org/contents/guidelines.html\"><em>Deep Learning</em>, pg. 416</a></p>"
   ]
  },
  {
   "cell_type": "markdown",
   "metadata": {
    "slideshow": {
     "slide_type": "subslide"
    }
   },
   "source": [
    "#### Also, Mateusz Bednarski's [*Structure and automated workflow for a machine learning project*](https://towardsdatascience.com/structure-and-automated-workflow-for-a-machine-learning-project-2fa30d661c1e) is a good step-by-step to understand the reasons for all the pieces in a project structure."
   ]
  },
  {
   "cell_type": "markdown",
   "metadata": {
    "slideshow": {
     "slide_type": "slide"
    }
   },
   "source": [
    "# Development Environment\n",
    "\n",
    "The software you use to write code."
   ]
  },
  {
   "cell_type": "markdown",
   "metadata": {
    "slideshow": {
     "slide_type": "subslide"
    }
   },
   "source": [
    "## Jupyter/IPython Notebook\n",
    "\n",
    "<div style=\"column-count: 2;\">\n",
    "    <div style=\"display: inline-block;vertical-align:top\">\n",
    "        <h3>Pros</h3>\n",
    "        <ul>\n",
    "            <li><b>Easy to share documents</b></li>\n",
    "            <li>Interactive</li>\n",
    "            <li>Fast to use and visualize results</li>\n",
    "        </ul>\n",
    "    </div>\n",
    "    <div style=\"display: inline-block;vertical-align:top\">\n",
    "        <h3>Cons</h3>\n",
    "        <ul>\n",
    "            <li><b>Pretty easy to get messy</b></li>\n",
    "            <li><b>Hard to debug</b></li>\n",
    "        </ul>\n",
    "    </div>\n",
    "</div>\n",
    "\n",
    "\n",
    "### Recommended for data exploration, data cleaning and experimentations"
   ]
  },
  {
   "cell_type": "markdown",
   "metadata": {
    "slideshow": {
     "slide_type": "subslide"
    }
   },
   "source": [
    "### Getting started with Jupyter\n",
    "\n",
    "* Notebook basics [1]\n",
    "* Learn Markdown for documentation [2]\n",
    "* IPython basics [3]\n",
    "\n",
    "<p style=\"text-align:right\">[1] <a href=https://jupyter-notebook.readthedocs.io/en/stable/examples/Notebook/Notebook%20Basics.html>Jupyter Notebook Read the Docs: Notebook Basics</a></p>\n",
    "<p style=\"text-align:right\">[2] <a href=https://github.com/adam-p/markdown-here/wiki/Markdown-Cheatsheet>Markdown Cheatsheet</a></p>\n",
    "<p style=\"text-align:right\">[3] <a href=https://ipython.org/ipython-doc/3/interactive/tutorial.html>Introducing IPython</a></p>"
   ]
  },
  {
   "cell_type": "markdown",
   "metadata": {
    "slideshow": {
     "slide_type": "subslide"
    }
   },
   "source": [
    "## IDEs (PyCharm, Spyder, etc.)\n",
    "\n",
    "<div style=\"column-count: 2;\">\n",
    "    <div style=\"display: inline-block;vertical-align:top\">\n",
    "        <h3>Pros</h3>\n",
    "        <ul>\n",
    "            <li><b>Error highlighting, easy to debug</b></li>\n",
    "            <li>Auto-completion, code indentation, etc</li>\n",
    "            <li>Refactoring tools</li>\n",
    "            <li>Visualization tools</li>\n",
    "        </ul>\n",
    "    </div>\n",
    "    <div style=\"display: inline-block;vertical-align:top\">\n",
    "        <h3>Cons</h3>\n",
    "        <ul>\n",
    "            <li><b>Hard to integrate with other tools</b></li>\n",
    "            <li>Usually heavy</li>\n",
    "            <li>Logarithmic learning curve</li>\n",
    "            <li>Abstraction from compile-run-debug process</li>\n",
    "        </ul>\n",
    "    </div>\n",
    "</div>\n",
    "\n",
    "### Recommended for \"hardcore\" code writing"
   ]
  },
  {
   "cell_type": "markdown",
   "metadata": {
    "slideshow": {
     "slide_type": "subslide"
    }
   },
   "source": [
    "### Getting started with PyCharm\n",
    "\n",
    "1. Creating and managing a project\n",
    "1. Customize your environment\n",
    "1. Learn how to run, debug and test\n",
    "1. Learn the Scientific Tools (if not in the free version)\n",
    "\n",
    "<p style=\"text-align:right\"><a href=https://www.jetbrains.com/help/pycharm/quick-start-guide.html>Quick Start Guide</a></p>\n",
    "<p style=\"text-align:right\"><a href=https://www.jetbrains.com/help/pycharm/scientific-tools.html>Scientific Tools</a></p>"
   ]
  },
  {
   "cell_type": "markdown",
   "metadata": {
    "slideshow": {
     "slide_type": "subslide"
    }
   },
   "source": [
    "## Code Editors (Atom, VS Code, Sublime, etc.)\n",
    "\n",
    "<div style=\"column-count: 2;\">\n",
    "    <div style=\"display: inline-block;vertical-align:top\">\n",
    "        <h3>Pros</h3>\n",
    "        <ul>\n",
    "            <li><b>Customizable</b></li>\n",
    "            <li>Lightweight</li>\n",
    "            <li>Good for learning about compile-run-debug tools</li>\n",
    "            <li>Integration with external tools</li>\n",
    "        </ul>\n",
    "    </div>\n",
    "    <div style=\"display: inline-block;vertical-align:top\">\n",
    "        <h3>Cons</h3>\n",
    "        <ul>\n",
    "            <li><b>Usually bad for visualization</b></li>\n",
    "            <li>Linear learning curve</li>\n",
    "            <li>Not so good debug tools (compared to IDEs)</li>\n",
    "        </ul>\n",
    "    </div>\n",
    "</div>\n",
    "\n",
    "### Recommended for code writing and workflow automation"
   ]
  },
  {
   "cell_type": "markdown",
   "metadata": {
    "slideshow": {
     "slide_type": "subslide"
    }
   },
   "source": [
    "### Getting started with Visual Studio Code\n",
    "\n",
    "1. Learn the basics [1]\n",
    "1. Learn how to debug [2]\n",
    "1. Use tasks [3]\n",
    "1. Setup a linter [4]\n",
    "1. Explore extensions [5, 6 and 7]\n",
    "\n",
    "\n",
    "<p style=\"text-align:right\">[1] <a href=https://code.visualstudio.com/docs/introvideos/basics>Getting started with Visual Studio Code</a></p>\n",
    "<p style=\"text-align:right\">[2] <a href=https://code.visualstudio.com/docs/editor/debugging>Debugging</a></p>\n",
    "<p style=\"text-align:right\">[3] <a href=https://code.visualstudio.com/docs/editor/tasks>Integrate with External Tools via Tasks</a></p>\n",
    "<p style=\"text-align:right\">[4] <a href=https://code.visualstudio.com/docs/python/linting>Linting Python in VS Code</a></p>\n",
    "<p style=\"text-align:right\">[5] <a href=https://marketplace.visualstudio.com/items?itemName=ms-toolsai.vscode-ai>Visual Studio Code Tools for AI</a></p>\n",
    "<p style=\"text-align:right\">[6] <a href=https://marketplace.visualstudio.com/items?itemName=donjayamanne.jupyter>Jupyter</a></p>\n",
    "<p style=\"text-align:right\">[7] <a href=https://marketplace.visualstudio.com/items?itemName=jithurjacob.nbpreviewer>VS Code Jupyter Notebook Previewer</a></p>\n"
   ]
  }
 ],
 "metadata": {
  "celltoolbar": "Slideshow",
  "kernelspec": {
   "display_name": "Python 3",
   "language": "python",
   "name": "python3"
  },
  "language_info": {
   "codemirror_mode": {
    "name": "ipython",
    "version": 3
   },
   "file_extension": ".py",
   "mimetype": "text/x-python",
   "name": "python",
   "nbconvert_exporter": "python",
   "pygments_lexer": "ipython3",
   "version": "3.7.0"
  }
 },
 "nbformat": 4,
 "nbformat_minor": 2
}
